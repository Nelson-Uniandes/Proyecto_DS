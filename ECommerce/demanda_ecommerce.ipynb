{
 "cells": [
  {
   "cell_type": "code",
   "execution_count": 126,
   "metadata": {},
   "outputs": [],
   "source": [
    "import pandas as pd\n",
    "from sklearn.model_selection import train_test_split\n",
    "from sklearn.ensemble import RandomForestRegressor\n",
    "from sklearn.metrics import mean_absolute_error\n",
    "from sklearn.preprocessing import LabelEncoder\n",
    "from sklearn.linear_model import LinearRegression\n",
    "from sklearn.metrics import mean_squared_error\n",
    "import mlflow"
   ]
  },
  {
   "cell_type": "code",
   "execution_count": 2,
   "metadata": {},
   "outputs": [
    {
     "name": "stdout",
     "output_type": "stream",
     "text": [
      "  InvoiceNo StockCode                          Description  Quantity  \\\n",
      "0    536365    85123A   WHITE HANGING HEART T-LIGHT HOLDER         6   \n",
      "1    536365     71053                  WHITE METAL LANTERN         6   \n",
      "2    536365    84406B       CREAM CUPID HEARTS COAT HANGER         8   \n",
      "3    536365    84029G  KNITTED UNION FLAG HOT WATER BOTTLE         6   \n",
      "4    536365    84029E       RED WOOLLY HOTTIE WHITE HEART.         6   \n",
      "\n",
      "          InvoiceDate  UnitPrice  CustomerID         Country  \n",
      "0 2010-12-01 08:26:00       2.55     17850.0  United Kingdom  \n",
      "1 2010-12-01 08:26:00       3.39     17850.0  United Kingdom  \n",
      "2 2010-12-01 08:26:00       2.75     17850.0  United Kingdom  \n",
      "3 2010-12-01 08:26:00       3.39     17850.0  United Kingdom  \n",
      "4 2010-12-01 08:26:00       3.39     17850.0  United Kingdom  \n"
     ]
    }
   ],
   "source": [
    "# Cargar el archivo Excel (ajusta la ruta del archivo)\n",
    "ruta_archivo = \"Online Retail.xlsx\"\n",
    "df = pd.read_excel(ruta_archivo, engine=\"openpyxl\")\n",
    "\n",
    "# Mostrar las primeras filas para verificar que se cargó correctamente\n",
    "print(df.head())"
   ]
  },
  {
   "cell_type": "code",
   "execution_count": 96,
   "metadata": {},
   "outputs": [],
   "source": [
    "df_sin_duplicados = df.drop_duplicates(subset='StockCode')\n",
    "\n",
    "# Seleccionar únicamente la columna 'Producto'\n",
    "columna_producto =df_sin_duplicados[df_sin_duplicados['Description'] != \"\"]\n",
    "\n",
    "columna_producto = columna_producto['Description'] \n",
    "\n",
    "# Guardar la columna en un archivo CSV\n",
    "columna_producto.to_csv('products.csv', index=False, header=True)"
   ]
  },
  {
   "cell_type": "code",
   "execution_count": 3,
   "metadata": {},
   "outputs": [
    {
     "name": "stdout",
     "output_type": "stream",
     "text": [
      "Index(['InvoiceNo', 'StockCode', 'Description', 'Quantity', 'InvoiceDate',\n",
      "       'UnitPrice', 'CustomerID', 'Country'],\n",
      "      dtype='object')\n"
     ]
    }
   ],
   "source": [
    "print(df.columns)  # Lista de columnas en el archivo"
   ]
  },
  {
   "cell_type": "code",
   "execution_count": 4,
   "metadata": {},
   "outputs": [
    {
     "name": "stdout",
     "output_type": "stream",
     "text": [
      "Columnas disponibles: Index(['InvoiceNo', 'StockCode', 'Description', 'Quantity', 'InvoiceDate',\n",
      "       'UnitPrice', 'CustomerID', 'Country'],\n",
      "      dtype='object')\n"
     ]
    }
   ],
   "source": [
    "# Verificar y limpiar columnas\n",
    "df.columns = df.columns.str.strip()  # Eliminar espacios en los nombres de las columnas\n",
    "print(\"Columnas disponibles:\", df.columns)"
   ]
  },
  {
   "cell_type": "code",
   "execution_count": 5,
   "metadata": {},
   "outputs": [],
   "source": [
    "df[\"InvoiceDate\"] = pd.to_datetime(df[\"InvoiceDate\"], errors=\"coerce\")\n",
    "df[\"Month\"] = df[\"InvoiceDate\"].dt.month\n",
    "df[\"Year\"] = df[\"InvoiceDate\"].dt.year\n",
    "df[\"StockCode\"] = df[\"StockCode\"].astype(str)  # Convertir a string\n",
    "df = df.dropna(subset=[\"StockCode\"])  # Eliminar valores nulos en StockCode"
   ]
  },
  {
   "cell_type": "code",
   "execution_count": 6,
   "metadata": {},
   "outputs": [],
   "source": [
    "le = LabelEncoder()\n",
    "df[\"StockCode\"] = le.fit_transform(df[\"StockCode\"])"
   ]
  },
  {
   "cell_type": "code",
   "execution_count": 21,
   "metadata": {},
   "outputs": [
    {
     "name": "stdout",
     "output_type": "stream",
     "text": [
      "<bound method NDFrame.head of 0         3536\n",
      "1         2794\n",
      "2         3044\n",
      "3         2985\n",
      "4         2984\n",
      "          ... \n",
      "541904    1527\n",
      "541905    1803\n",
      "541906    2145\n",
      "541907    2146\n",
      "541908    1093\n",
      "Name: StockCode, Length: 541909, dtype: int64>\n"
     ]
    }
   ],
   "source": [
    "print(df[\"StockCode\"].head)"
   ]
  },
  {
   "cell_type": "code",
   "execution_count": 7,
   "metadata": {},
   "outputs": [],
   "source": [
    "X = df[[\"Month\", \"Year\", \"StockCode\"]]  # Ahora StockCode es numérico\n",
    "y = df[\"Quantity\"]"
   ]
  },
  {
   "cell_type": "code",
   "execution_count": 8,
   "metadata": {},
   "outputs": [],
   "source": [
    "X_train, X_test, y_train, y_test = train_test_split(X, y, test_size=0.2, random_state=42)"
   ]
  },
  {
   "cell_type": "code",
   "execution_count": 128,
   "metadata": {},
   "outputs": [
    {
     "name": "stderr",
     "output_type": "stream",
     "text": [
      "2025/03/07 19:33:48 INFO mlflow.tracking.fluent: Experiment with name 'RandomForestRegressor' does not exist. Creating a new experiment.\n"
     ]
    }
   ],
   "source": [
    "# defina el servidor para llevar el registro de modelos y artefactos\n",
    "mlflow.set_tracking_uri('http://localhost:8050')\n",
    "randomForest = mlflow.set_experiment(\"RandomForestRegressor\")"
   ]
  },
  {
   "cell_type": "code",
   "execution_count": 139,
   "metadata": {},
   "outputs": [
    {
     "name": "stderr",
     "output_type": "stream",
     "text": [
      "\u001b[31m2025/03/07 20:15:03 WARNING mlflow.models.model: Model logged without a signature and input example. Please set `input_example` parameter when logging the model to auto infer the model signature.\u001b[0m\n"
     ]
    },
    {
     "name": "stdout",
     "output_type": "stream",
     "text": [
      "🏃 View run beautiful-sheep-361 at: http://localhost:8050/#/experiments/895459103735821031/runs/4377adeb186a43ac86766c7f0ff305ad\n",
      "🧪 View experiment at: http://localhost:8050/#/experiments/895459103735821031\n"
     ]
    }
   ],
   "source": [
    "# Entrenar modelo\n",
    "with mlflow.start_run(experiment_id=randomForest.experiment_id, nested=True) as run:\n",
    "    n_estimators = 100 \n",
    "    model = RandomForestRegressor(n_estimators=n_estimators, random_state=42)\n",
    "    model.fit(X_train, y_train)\n",
    "    mlflow.log_param(\"n_estimators\", 100)\n",
    "    mlflow.log_metric(\"mae\", mean_absolute_error(y_test, model.predict(X_test)))\n",
    "    mlflow.log_metric(\"mse\", mean_squared_error(y_test, model.predict(X_test)))\n",
    "    # Registre los parámetros\n",
    "    mlflow.log_param(\"num_trees\", n_estimators)\n",
    "    # Registre el modelo\n",
    "    mlflow.sklearn.log_model(model, \"random-forest-model\")"
   ]
  },
  {
   "cell_type": "code",
   "execution_count": 140,
   "metadata": {},
   "outputs": [
    {
     "name": "stderr",
     "output_type": "stream",
     "text": [
      "\u001b[31m2025/03/07 20:15:09 WARNING mlflow.models.model: Model logged without a signature and input example. Please set `input_example` parameter when logging the model to auto infer the model signature.\u001b[0m\n"
     ]
    },
    {
     "name": "stdout",
     "output_type": "stream",
     "text": [
      "🏃 View run awesome-loon-274 at: http://localhost:8050/#/experiments/533296179510911120/runs/dbdc107a761742d19df0892ec808da04\n",
      "🧪 View experiment at: http://localhost:8050/#/experiments/533296179510911120\n"
     ]
    }
   ],
   "source": [
    "linearRegression = mlflow.set_experiment(\"LinearRegressionx\")\n",
    "with mlflow.start_run(experiment_id=linearRegression.experiment_id, nested=True) as run:\n",
    "    model_lr = LinearRegression()\n",
    "    model_lr.fit(X_train, y_train)\n",
    "    mlflow.log_metric(\"mae\", mean_absolute_error(y_test, model_lr.predict(X_test)))\n",
    "    mlflow.log_metric(\"mse\", mean_squared_error(y_test, model.predict(X_test)))\n",
    "        \n",
    "    mlflow.sklearn.log_model(model, \"linear-regresion-model\")\n",
    "\n",
    "    #y_pred = model_lr.predict(X_test)\n",
    "    #mae_reg = mean_absolute_error(y_test, y_pred)\n",
    "\n",
    "#print(f\"MAE con Regresión Lineal: {mae_reg}\")"
   ]
  },
  {
   "cell_type": "code",
   "execution_count": 98,
   "metadata": {},
   "outputs": [
    {
     "data": {
      "text/plain": [
       "['label_encoder.pkl']"
      ]
     },
     "execution_count": 98,
     "metadata": {},
     "output_type": "execute_result"
    }
   ],
   "source": [
    "import joblib\n",
    "# Guardar modelo entrenado\n",
    "joblib.dump(model_lr, 'demand_model.pkl')\n",
    "# Guardar LabelEncoder en un archivo .pkl\n",
    "joblib.dump(le, \"label_encoder.pkl\")"
   ]
  },
  {
   "cell_type": "code",
   "execution_count": 14,
   "metadata": {},
   "outputs": [
    {
     "data": {
      "image/png": "[encoded data removed]",
      "text/plain": [
       "<Figure size 800x500 with 1 Axes>"
      ]
     },
     "metadata": {},
     "output_type": "display_data"
    }
   ],
   "source": [
    "import matplotlib.pyplot as plt\n",
    "\n",
    "modelos = [\"Regresión Lineal\", \"Random Forest\", \"XGBoost\"]\n",
    "mae_scores = [mae_reg, mae_rf, mae_xgb]\n",
    "\n",
    "plt.figure(figsize=(8,5))\n",
    "plt.bar(modelos, mae_scores, color=[\"blue\", \"green\", \"red\", \"purple\", \"orange\"])\n",
    "plt.xlabel(\"Modelo\")\n",
    "plt.ylabel(\"Error Medio Absoluto (MAE)\")\n",
    "plt.title(\"Comparación de Modelos para Predicción de Demanda\")\n",
    "plt.show()"
   ]
  },
  {
   "cell_type": "code",
   "execution_count": 86,
   "metadata": {},
   "outputs": [
    {
     "name": "stdout",
     "output_type": "stream",
     "text": [
      "Predicción de demanda para el producto 100000 en 12/2025: 22.89 unidades\n"
     ]
    }
   ],
   "source": [
    "# Definir los valores de entrada (producto, año y mes)\n",
    "producto = \"100000\"  # Código del producto a predecir\n",
    "año = 2025\n",
    "mes = 12\n",
    "\n",
    "# Crear DataFrame con los datos de entrada\n",
    "X_nuevo = pd.DataFrame({\"Month\": [mes], \"Year\": [año], \"StockCode\": [producto]})\n",
    "\n",
    "# Hacer la predicción\n",
    "prediccion = model_lr.predict(X_nuevo)\n",
    "\n",
    "print(f\"Predicción de demanda para el producto {producto} en {mes}/{año}: {prediccion[0]:.2f} unidades\")"
   ]
  }
 ],
 "metadata": {
  "kernelspec": {
   "display_name": "venv",
   "language": "python",
   "name": "python3"
  },
  "language_info": {
   "codemirror_mode": {
    "name": "ipython",
    "version": 3
   },
   "file_extension": ".py",
   "mimetype": "text/x-python",
   "name": "python",
   "nbconvert_exporter": "python",
   "pygments_lexer": "ipython3",
   "version": "3.13.2"
  }
 },
 "nbformat": 4,
 "nbformat_minor": 2
}
